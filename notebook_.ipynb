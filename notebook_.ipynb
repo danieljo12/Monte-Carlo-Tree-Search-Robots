{
  "nbformat": 4,
  "nbformat_minor": 0,
  "metadata": {
    "colab": {
      "provenance": [],
      "gpuType": "T4"
    },
    "kernelspec": {
      "name": "python3",
      "display_name": "Python 3"
    },
    "language_info": {
      "name": "python"
    },
    "accelerator": "GPU"
  },
  "cells": [
    {
      "cell_type": "code",
      "execution_count": 1,
      "metadata": {
        "id": "DiC5-gqAoPGm"
      },
      "outputs": [],
      "source": [
        "import numpy as np\n",
        "from scipy.special import comb\n",
        "import matplotlib.pyplot as plt"
      ]
    },
    {
      "cell_type": "code",
      "source": [
        "class Node:\n",
        "    def __init__(self, state, parent=None, action=None):\n",
        "        self.state = state\n",
        "        self.parent = parent\n",
        "        self.action = action\n",
        "        self.children = []\n",
        "        self.visits = 0\n",
        "        self.value = 0.0"
      ],
      "metadata": {
        "id": "35oaIcPnoUuN"
      },
      "execution_count": 2,
      "outputs": []
    },
    {
      "cell_type": "code",
      "source": [
        "# Function to develope the simple tree, not include the pruning\n",
        "def expand_node(node, actions):\n",
        "    for action in actions:\n",
        "        new_state = simulate_action(node.state, action)\n",
        "        child_node = Node(new_state, node, action)\n",
        "        node.children.append(child_node)\n",
        "    return node.children\n"
      ],
      "metadata": {
        "id": "PrZnt2wXouu2"
      },
      "execution_count": 3,
      "outputs": []
    },
    {
      "cell_type": "code",
      "source": [
        "# Reinforcement Action Simulation Action\n",
        "def simulate_action(state, action):\n",
        "    x, y = state\n",
        "    if action == 'up':\n",
        "        return (x, y + 1)\n",
        "    elif action == 'down':\n",
        "        return (x, y - 1)\n",
        "    elif action == 'left':\n",
        "        return (x - 1, y)\n",
        "    elif action == 'right':\n",
        "        return (x + 1, y)"
      ],
      "metadata": {
        "id": "kJ7em47co8i1"
      },
      "execution_count": 4,
      "outputs": []
    },
    {
      "cell_type": "code",
      "source": [
        "# Implementation of spectral tree search\n",
        "def sets_search(root_state, actions, max_depth, num_simulations):\n",
        "    root_node = Node(root_state)\n",
        "    for _ in range(num_simulations):\n",
        "        current_node = root_node\n",
        "        while len(current_node.children) != 0 and current_node.visits < max_depth:\n",
        "            # Here we'll use the simple selection process (not a balancing exploration)\n",
        "            best_child = max(current_node.children, key=lambda child: child.value + np.sqrt(2 * np.log(current_node.visits)/child.visits) if child.visits > 0 else np.inf)\n",
        "            current_node = best_child\n",
        "\n",
        "        # If we're at a leaf node, expand it\n",
        "        if current_node.visits < max_depth:\n",
        "            expand_node(current_node, actions)\n",
        "\n",
        "        # Evaluation phase\n",
        "        target_state = (5,4) # Assume this's the target\n",
        "        if current_node.state == target_state:\n",
        "            reward = 1.0\n",
        "        else:\n",
        "            reward = 0.0\n",
        "\n",
        "        # Backpropagation\n",
        "        while current_node:\n",
        "            current_node.visits += 1\n",
        "            current_node.value += (reward - current_node.value) / current_node.visits\n",
        "            current_node = current_node.parent\n",
        "\n",
        "    best_node = max(root_node.children, key=lambda child: child.value)\n",
        "    trajectory = []\n",
        "\n",
        "    while best_node:\n",
        "        trajectory.append(best_node.state)\n",
        "        best_node = best_node.parent\n",
        "\n",
        "    return list(reversed(trajectory))\n",
        "\n"
      ],
      "metadata": {
        "id": "zGfH0f13pWgN"
      },
      "execution_count": 18,
      "outputs": []
    },
    {
      "cell_type": "code",
      "source": [
        "# Initial settings\n",
        "root_state = (0,0)\n",
        "actions = ['up', 'down', 'left', 'right']\n",
        "max_depth = 10\n",
        "num_simulations = 1000\n",
        "\n",
        "# Run the search\n",
        "trajectory = sets_search(root_state, actions, max_depth, num_simulations)"
      ],
      "metadata": {
        "id": "32tARnEZrRUD"
      },
      "execution_count": 19,
      "outputs": []
    },
    {
      "cell_type": "code",
      "source": [
        "trajectory"
      ],
      "metadata": {
        "colab": {
          "base_uri": "https://localhost:8080/"
        },
        "id": "J4UEN0ZUrXJM",
        "outputId": "a3ec0d32-9129-4e08-de21-737b2c69c90a"
      },
      "execution_count": 20,
      "outputs": [
        {
          "output_type": "execute_result",
          "data": {
            "text/plain": [
              "[(0, 0), (0, 1)]"
            ]
          },
          "metadata": {},
          "execution_count": 20
        }
      ]
    },
    {
      "cell_type": "code",
      "source": [
        "plt.figure(figsize=(8, 8))\n",
        "plt.plot([x for x, y in trajectory], [y for x, y in trajectory], 'o-')\n",
        "plt.xlim(-1, 6)\n",
        "plt.ylim(-1, 6)\n",
        "plt.title(\"Best Path\")\n",
        "plt.grid(True)\n",
        "plt.show()"
      ],
      "metadata": {
        "colab": {
          "base_uri": "https://localhost:8080/",
          "height": 211
        },
        "id": "7tt4WSfGriV7",
        "outputId": "d89601a9-d8d0-49b6-be1c-b4a312cec6f6"
      },
      "execution_count": 1,
      "outputs": [
        {
          "output_type": "error",
          "ename": "NameError",
          "evalue": "name 'plt' is not defined",
          "traceback": [
            "\u001b[0;31m---------------------------------------------------------------------------\u001b[0m",
            "\u001b[0;31mNameError\u001b[0m                                 Traceback (most recent call last)",
            "\u001b[0;32m<ipython-input-1-bbc533dae6d6>\u001b[0m in \u001b[0;36m<cell line: 1>\u001b[0;34m()\u001b[0m\n\u001b[0;32m----> 1\u001b[0;31m \u001b[0mplt\u001b[0m\u001b[0;34m.\u001b[0m\u001b[0mfigure\u001b[0m\u001b[0;34m(\u001b[0m\u001b[0mfigsize\u001b[0m\u001b[0;34m=\u001b[0m\u001b[0;34m(\u001b[0m\u001b[0;36m8\u001b[0m\u001b[0;34m,\u001b[0m \u001b[0;36m8\u001b[0m\u001b[0;34m)\u001b[0m\u001b[0;34m)\u001b[0m\u001b[0;34m\u001b[0m\u001b[0;34m\u001b[0m\u001b[0m\n\u001b[0m\u001b[1;32m      2\u001b[0m \u001b[0mplt\u001b[0m\u001b[0;34m.\u001b[0m\u001b[0mplot\u001b[0m\u001b[0;34m(\u001b[0m\u001b[0;34m[\u001b[0m\u001b[0mx\u001b[0m \u001b[0;32mfor\u001b[0m \u001b[0mx\u001b[0m\u001b[0;34m,\u001b[0m \u001b[0my\u001b[0m \u001b[0;32min\u001b[0m \u001b[0mtrajectory\u001b[0m\u001b[0;34m]\u001b[0m\u001b[0;34m,\u001b[0m \u001b[0;34m[\u001b[0m\u001b[0my\u001b[0m \u001b[0;32mfor\u001b[0m \u001b[0mx\u001b[0m\u001b[0;34m,\u001b[0m \u001b[0my\u001b[0m \u001b[0;32min\u001b[0m \u001b[0mtrajectory\u001b[0m\u001b[0;34m]\u001b[0m\u001b[0;34m,\u001b[0m \u001b[0;34m'o-'\u001b[0m\u001b[0;34m)\u001b[0m\u001b[0;34m\u001b[0m\u001b[0;34m\u001b[0m\u001b[0m\n\u001b[1;32m      3\u001b[0m \u001b[0mplt\u001b[0m\u001b[0;34m.\u001b[0m\u001b[0mxlim\u001b[0m\u001b[0;34m(\u001b[0m\u001b[0;34m-\u001b[0m\u001b[0;36m1\u001b[0m\u001b[0;34m,\u001b[0m \u001b[0;36m6\u001b[0m\u001b[0;34m)\u001b[0m\u001b[0;34m\u001b[0m\u001b[0;34m\u001b[0m\u001b[0m\n\u001b[1;32m      4\u001b[0m \u001b[0mplt\u001b[0m\u001b[0;34m.\u001b[0m\u001b[0mylim\u001b[0m\u001b[0;34m(\u001b[0m\u001b[0;34m-\u001b[0m\u001b[0;36m1\u001b[0m\u001b[0;34m,\u001b[0m \u001b[0;36m6\u001b[0m\u001b[0;34m)\u001b[0m\u001b[0;34m\u001b[0m\u001b[0;34m\u001b[0m\u001b[0m\n\u001b[1;32m      5\u001b[0m \u001b[0mplt\u001b[0m\u001b[0;34m.\u001b[0m\u001b[0mtitle\u001b[0m\u001b[0;34m(\u001b[0m\u001b[0;34m\"Best Path\"\u001b[0m\u001b[0;34m)\u001b[0m\u001b[0;34m\u001b[0m\u001b[0;34m\u001b[0m\u001b[0m\n",
            "\u001b[0;31mNameError\u001b[0m: name 'plt' is not defined"
          ]
        }
      ]
    },
    {
      "cell_type": "markdown",
      "source": [
        "# YOU CAN USE THIS CODE TO DO THE RESEARCH"
      ],
      "metadata": {
        "id": "j6GQsL2xtAUe"
      }
    },
    {
      "cell_type": "code",
      "source": [],
      "metadata": {
        "id": "QBN6YaL5rkyB"
      },
      "execution_count": null,
      "outputs": []
    }
  ]
}